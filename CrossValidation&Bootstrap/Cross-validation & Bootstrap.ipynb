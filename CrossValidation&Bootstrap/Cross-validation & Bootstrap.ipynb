{
 "cells": [
  {
   "cell_type": "markdown",
   "id": "28a6228b-8a82-4331-817e-cc7517037f7c",
   "metadata": {},
   "source": [
    "### Cross-Validation and the Bootstrap"
   ]
  },
  {
   "cell_type": "code",
   "execution_count": 1,
   "id": "5345c2dc-799e-4cd2-bf0b-5caf86e6f26e",
   "metadata": {},
   "outputs": [],
   "source": [
    "import numpy as np\n",
    "import statsmodels.api as sm\n",
    "from ISLP import load_data\n",
    "from ISLP.models import (ModelSpec as MS, summarize, poly)\n",
    "from sklearn.model_selection import train_test_split"
   ]
  },
  {
   "cell_type": "code",
   "execution_count": 19,
   "id": "e9007e04-ff61-4586-aff7-639cd79d82cf",
   "metadata": {},
   "outputs": [],
   "source": [
    "from functools import partial\n",
    "from sklearn.model_selection import \\\n",
    "(cross_validate,\n",
    "KFold,\n",
    "ShuffleSplit)\n",
    "from sklearn.base import clone\n",
    "from ISLP.models import sklearn_sm"
   ]
  },
  {
   "cell_type": "markdown",
   "id": "07ae006b-d4eb-4173-a326-a93f4ace1b22",
   "metadata": {},
   "source": [
    "#### the Validation Set Approach\n",
    "##### -split the data into training, validation set \n",
    "###### **Do not reuse the data used in traing or validation in test session**"
   ]
  },
  {
   "cell_type": "markdown",
   "id": "645beff1-a7e8-4a58-b1ac-cc8dc54fe940",
   "metadata": {},
   "source": [
    "- data introduction\n",
    "\n",
    "mpg: miles per gallon\n",
    "\n",
    "cylinders: Number of cylinders between 4 and 8\n",
    "\n",
    "displacement: Engine displacement (cu. inches)\n",
    "\n",
    "horsepower: Engine horsepower\n",
    "\n",
    "weight: Vehicle weight (lbs.)\n",
    "\n",
    "acceleration: Time to accelerate from 0 to 60 mph (sec.)\n",
    "\n",
    "year: Model year (modulo 100)\n",
    "\n",
    "origin: Origin of car (1. American, 2. European, 3. Japanese)\n",
    "\n",
    "name: Vehicle name\n",
    "\n",
    "A data frame with 392 observations on the following 9 variables.\n"
   ]
  },
  {
   "cell_type": "code",
   "execution_count": 4,
   "id": "6cdbed04-fb2f-431c-b6f6-bcb8a6debe67",
   "metadata": {},
   "outputs": [],
   "source": [
    "Auto = load_data('Auto')\n",
    "Auto_train, Auto_valid = train_test_split(Auto, test_size=196, random_state=0) \n",
    "#Random_state = int\n",
    "#Controls the shuffling applied to the data before applying the split. Pass an int for reproducible output across multiple function calls.\n",
    "#Default = None"
   ]
  },
  {
   "cell_type": "code",
   "execution_count": 5,
   "id": "c5db63de-2c4d-435e-aebb-5f340972d1d9",
   "metadata": {},
   "outputs": [],
   "source": [
    "hp_mm = MS(['horsepower'])\n",
    "X_train = hp_mm.fit_transform(Auto_train)\n",
    "y_train = Auto_train['mpg']\n",
    "model = sm.OLS(y_train, X_train)\n",
    "results = model.fit()"
   ]
  },
  {
   "cell_type": "code",
   "execution_count": 7,
   "id": "d170751e-6f13-4ab3-815a-be518a084c80",
   "metadata": {},
   "outputs": [
    {
     "data": {
      "text/html": [
       "<div>\n",
       "<style scoped>\n",
       "    .dataframe tbody tr th:only-of-type {\n",
       "        vertical-align: middle;\n",
       "    }\n",
       "\n",
       "    .dataframe tbody tr th {\n",
       "        vertical-align: top;\n",
       "    }\n",
       "\n",
       "    .dataframe thead th {\n",
       "        text-align: right;\n",
       "    }\n",
       "</style>\n",
       "<table border=\"1\" class=\"dataframe\">\n",
       "  <thead>\n",
       "    <tr style=\"text-align: right;\">\n",
       "      <th></th>\n",
       "      <th>coef</th>\n",
       "      <th>std err</th>\n",
       "      <th>t</th>\n",
       "      <th>P&gt;|t|</th>\n",
       "    </tr>\n",
       "  </thead>\n",
       "  <tbody>\n",
       "    <tr>\n",
       "      <th>intercept</th>\n",
       "      <td>39.9055</td>\n",
       "      <td>1.009</td>\n",
       "      <td>39.537</td>\n",
       "      <td>0.0</td>\n",
       "    </tr>\n",
       "    <tr>\n",
       "      <th>horsepower</th>\n",
       "      <td>-0.1563</td>\n",
       "      <td>0.009</td>\n",
       "      <td>-17.333</td>\n",
       "      <td>0.0</td>\n",
       "    </tr>\n",
       "  </tbody>\n",
       "</table>\n",
       "</div>"
      ],
      "text/plain": [
       "               coef  std err       t  P>|t|\n",
       "intercept   39.9055    1.009  39.537    0.0\n",
       "horsepower  -0.1563    0.009 -17.333    0.0"
      ]
     },
     "execution_count": 7,
     "metadata": {},
     "output_type": "execute_result"
    }
   ],
   "source": [
    "sum = summarize(results)\n",
    "sum"
   ]
  },
  {
   "cell_type": "code",
   "execution_count": 8,
   "id": "284ac1d2-3a8e-43a5-b745-a515c4b9f8c4",
   "metadata": {},
   "outputs": [
    {
     "data": {
      "text/plain": [
       "23.616617069669882"
      ]
     },
     "execution_count": 8,
     "metadata": {},
     "output_type": "execute_result"
    }
   ],
   "source": [
    "X_valid = hp_mm.transform(Auto_valid)\n",
    "y_valid = Auto_valid['mpg']\n",
    "valid_pred = results.predict(X_valid)\n",
    "\n",
    "#Mean Squered Error of model (true - predicted value)\n",
    "np.mean((y_valid - valid_pred)**2)"
   ]
  },
  {
   "cell_type": "code",
   "execution_count": 11,
   "id": "b6b8b9c9-3ce9-4220-b86b-f2aff1ce0d7c",
   "metadata": {},
   "outputs": [],
   "source": [
    "def evalMSE(terms, response, train, test):\n",
    "    mm = MS(terms)\n",
    "    X_train = mm.fit_transform(train)\n",
    "    y_train = train[response]\n",
    "    X_test = mm.transform(test)\n",
    "    y_test = test[response]\n",
    "    results = sm.OLS(y_train, X_train).fit()\n",
    "    test_pred = results.predict(X_test)\n",
    "    return np.mean((y_test - test_pred)**2)"
   ]
  },
  {
   "cell_type": "code",
   "execution_count": 13,
   "id": "90ddff43-c7b9-4fdd-ac30-84df81d0c6c4",
   "metadata": {},
   "outputs": [
    {
     "data": {
      "text/plain": [
       "array([23.61661707, 18.76303135, 18.79694163])"
      ]
     },
     "execution_count": 13,
     "metadata": {},
     "output_type": "execute_result"
    }
   ],
   "source": [
    "MSE = np.zeros(3)\n",
    "for idx, degree in enumerate(range(1, 4)):\n",
    "    MSE[idx] = evalMSE([poly('horsepower',degree)], 'mpg', Auto_train, Auto_valid) \n",
    "MSE\n",
    "#poly function for creating polynomial function\n",
    "#poly(variable, degree) -> sqaring the variable with the degree amounts\n",
    "#in this case, 'horsepower' variable will be sqaured until 3 degress"
   ]
  },
  {
   "cell_type": "code",
   "execution_count": 16,
   "id": "4382aa35-1a02-49c4-8352-3728fbd2498b",
   "metadata": {},
   "outputs": [
    {
     "data": {
      "text/plain": [
       "array([23.73802814, 17.59231544, 17.53555995])"
      ]
     },
     "execution_count": 16,
     "metadata": {},
     "output_type": "execute_result"
    }
   ],
   "source": [
    "#from here we'll apply another training/validation split\n",
    "Auto_train, Auto_valid = train_test_split(Auto, test_size = 106, random_state = 3)\n",
    "MSE = np.zeros(3)\n",
    "for idx, degree in enumerate(range(1,4)):\n",
    "    MSE[idx] = evalMSE([poly('horsepower', degree)], 'mpg', Auto_train, Auto_valid)\n",
    "MSE"
   ]
  },
  {
   "cell_type": "markdown",
   "id": "190d3e56-6f9d-447e-b17e-1bb2873d65f0",
   "metadata": {},
   "source": [
    "it seems like random shuffling the data set improves the prediction <br>\n",
    "also, poly nomial term does too. But infinitely increasing the degree doesn't improve the performance."
   ]
  },
  {
   "cell_type": "markdown",
   "id": "6201f06d-e77e-40a4-b17b-98e56c4fa11c",
   "metadata": {},
   "source": [
    "### Cross-Validation"
   ]
  },
  {
   "cell_type": "code",
   "execution_count": 21,
   "id": "2f0ba380-81e8-49bc-92d0-de49201c3ace",
   "metadata": {},
   "outputs": [
    {
     "data": {
      "text/plain": [
       "24.231513517929226"
      ]
     },
     "execution_count": 21,
     "metadata": {},
     "output_type": "execute_result"
    }
   ],
   "source": [
    "hp_model = sklearn_sm(sm.OLS, MS(['horsepower']))\n",
    "X, Y = Auto.drop(columns = ['mpg']), Auto['mpg']\n",
    "cv_results = cross_validate(hp_model, X, Y, cv= Auto.shape[0]) #Auto.shape[0] = LOOCV(same as data set length)\n",
    "cv_err = np.mean(cv_results['test_score'])\n",
    "cv_err"
   ]
  },
  {
   "cell_type": "code",
   "execution_count": 31,
   "id": "13145c87-cd39-44f5-8258-f95d2c5ccf13",
   "metadata": {},
   "outputs": [
    {
     "data": {
      "text/plain": [
       "array([24.23151352, 19.24821312, 19.33498406, 19.42443032, 19.03322078])"
      ]
     },
     "execution_count": 31,
     "metadata": {},
     "output_type": "execute_result"
    }
   ],
   "source": [
    "cv_error = np.zeros(5)\n",
    "H = np.array(Auto['horsepower'])\n",
    "M = sklearn_sm(sm.OLS)\n",
    "for i, d in enumerate(range(1,6)):\n",
    "    X = np.power.outer(H,np.arange(d+1)) #retrieve the powered values of H variable with amounts of 'd'\n",
    "    M_CV = cross_validate(M,X, Y, cv = Auto.shape[0]) #LOOCV\n",
    "    cv_error[i] = np.mean(M_CV['test_score']) #not a MSE, here, just averaging the test score\n",
    "cv_error\n",
    "#test_score in each poly nomial degree will have n amounts of test_score value(cause it's LOOCV)"
   ]
  },
  {
   "cell_type": "code",
   "execution_count": 32,
   "id": "33d34f63-1b74-4027-a24f-27ea892ddca1",
   "metadata": {},
   "outputs": [
    {
     "data": {
      "text/plain": [
       "array([24.20766449, 19.18533142, 19.27626666, 19.478484  , 19.1372021 ])"
      ]
     },
     "execution_count": 32,
     "metadata": {},
     "output_type": "execute_result"
    }
   ],
   "source": [
    "cv_error = np.zeros(5)\n",
    "cv = KFold(n_splits = 10, shuffle = True, random_state = 0)\n",
    "for i, d in enumerate(range(1,6)):\n",
    "    X = np.power.outer(H, np.arange(d+1))\n",
    "    M_CV = cross_validate(M, X, Y, cv = cv) #10-fold cross-validation\n",
    "    cv_error[i] = np.mean(M_CV['test_score'])\n",
    "cv_error"
   ]
  },
  {
   "cell_type": "code",
   "execution_count": 33,
   "id": "4627ab51-85d1-4c73-80fb-a93bb05942e3",
   "metadata": {},
   "outputs": [
    {
     "data": {
      "text/plain": [
       "array([23.61661707])"
      ]
     },
     "execution_count": 33,
     "metadata": {},
     "output_type": "execute_result"
    }
   ],
   "source": [
    "validation = ShuffleSplit(n_splits =1, test_size = 196, random_state = 0) #shuffle data only once\n",
    "results = cross_validate(hp_model, Auto.drop(['mpg'],axis = 1), Auto['mpg'], cv = validation)\n",
    "results['test_score']"
   ]
  },
  {
   "cell_type": "code",
   "execution_count": 35,
   "id": "03210342-923f-4795-932f-1174d4b771a3",
   "metadata": {},
   "outputs": [
    {
     "data": {
      "text/plain": [
       "(23.802232661034164, 1.4218450941091783)"
      ]
     },
     "execution_count": 35,
     "metadata": {},
     "output_type": "execute_result"
    }
   ],
   "source": [
    "validation = ShuffleSplit(n_splits =10, test_size = 196, random_state= 0)\n",
    "results = cross_validate(hp_model, Auto.drop(['mpg'],axis = 1), Auto['mpg'], cv = validation)\n",
    "results['test_score'].mean(), results['test_score'].std()"
   ]
  },
  {
   "cell_type": "markdown",
   "id": "5c57dbca-c993-48f3-b861-177374a20a8f",
   "metadata": {},
   "source": [
    "### Bootstrap"
   ]
  },
  {
   "cell_type": "markdown",
   "id": "fce75b37-32d3-47b3-b589-5577b1193b21",
   "metadata": {},
   "source": [
    "resampling technique that helps in estimating the uncertainty of a statistical model."
   ]
  },
  {
   "cell_type": "code",
   "execution_count": 38,
   "id": "d3ca8cac-3ed2-41e9-b0aa-3cb5d6ffc2e4",
   "metadata": {},
   "outputs": [],
   "source": [
    "Portfolio = load_data('Portfolio')\n",
    "def alpha_func(D, idx):\n",
    "    cov_ = np.cov(D[['X','Y']].loc[idx],rowvar=False)\n",
    "    return ((cov_[1,1]-cov_[0,1]) / (cov_[0,0]+cov_[1,1]-2*cov_[0,1]))"
   ]
  },
  {
   "cell_type": "markdown",
   "id": "3e19c2c5-f0c8-4aae-ac11-e75b126c807b",
   "metadata": {},
   "source": [
    "cov_[1,1] = variance of Y <br>\n",
    "cov_[0,1] or cov_[1,0] = covariance between X, Y <br>\n",
    "cov_[0,0] = variance of X"
   ]
  },
  {
   "cell_type": "code",
   "execution_count": 39,
   "id": "00745a97-2c6d-4128-94c5-e34d0f4d1e94",
   "metadata": {},
   "outputs": [
    {
     "data": {
      "text/plain": [
       "0.57583207459283"
      ]
     },
     "execution_count": 39,
     "metadata": {},
     "output_type": "execute_result"
    }
   ],
   "source": [
    "alpha_func(Portfolio, range(100))"
   ]
  },
  {
   "cell_type": "code",
   "execution_count": 41,
   "id": "fff2cfbc-b6b8-4c92-a248-94e648cf346b",
   "metadata": {},
   "outputs": [
    {
     "data": {
      "text/plain": [
       "0.6074452469619002"
      ]
     },
     "execution_count": 41,
     "metadata": {},
     "output_type": "execute_result"
    }
   ],
   "source": [
    "rng = np.random.default_rng(0)\n",
    "alpha_func(Portfolio, rng.choice(100, 100, replace = True)) \n",
    "#Select 100 elements from [0,99]\n",
    "#Bootstrap is copied data with replacement"
   ]
  },
  {
   "cell_type": "code",
   "execution_count": 42,
   "id": "aefa0bf8-113d-4c99-8162-60b0b12f676f",
   "metadata": {},
   "outputs": [],
   "source": [
    "def boot_SE(func, D, n = None, B = 100, seed = 0):\n",
    "    rng = np.random.default_rng(seed)\n",
    "    first_, second_ = 0,0\n",
    "    n = n or D.shape[0]\n",
    "    for _ in range(B):\n",
    "        idx = rng.choice(D.index, n ,replace = True)\n",
    "        value = func(D, idx)\n",
    "        first_ += value\n",
    "        second_ += value**2\n",
    "        \n",
    "        return np.sqrt(second_ / B - (first_ / B)**2)"
   ]
  },
  {
   "cell_type": "code",
   "execution_count": 43,
   "id": "4c3a1f4f-4e68-4dcb-87e2-fb846a51cbd3",
   "metadata": {},
   "outputs": [
    {
     "data": {
      "text/plain": [
       "0.019199498387420105"
      ]
     },
     "execution_count": 43,
     "metadata": {},
     "output_type": "execute_result"
    }
   ],
   "source": [
    "alpha_SE = boot_SE(alpha_func, Portfolio, B = 1000 , seed = 0)\n",
    "alpha_SE"
   ]
  },
  {
   "cell_type": "markdown",
   "id": "6687982f-1904-4eb7-9300-447d91ad76c3",
   "metadata": {},
   "source": [
    "---"
   ]
  },
  {
   "cell_type": "code",
   "execution_count": 44,
   "id": "9fe39f96-243b-47ef-aaf5-17158852a93c",
   "metadata": {},
   "outputs": [],
   "source": [
    "def boot_OLS(model_matrix, response, D, idx):\n",
    "    D_ = D.loc[idx]\n",
    "    Y_ = D_[response]\n",
    "    X_ = clone(model_matrix).fit_transform(D_)\n",
    "    return sm.OLS(Y_, X_).fit().params"
   ]
  },
  {
   "cell_type": "code",
   "execution_count": null,
   "id": "e76cefe9-6808-4c5b-bbcc-4f53418f8cff",
   "metadata": {},
   "outputs": [],
   "source": []
  }
 ],
 "metadata": {
  "kernelspec": {
   "display_name": "Python 3 (ipykernel)",
   "language": "python",
   "name": "python3"
  },
  "language_info": {
   "codemirror_mode": {
    "name": "ipython",
    "version": 3
   },
   "file_extension": ".py",
   "mimetype": "text/x-python",
   "name": "python",
   "nbconvert_exporter": "python",
   "pygments_lexer": "ipython3",
   "version": "3.9.13"
  }
 },
 "nbformat": 4,
 "nbformat_minor": 5
}
